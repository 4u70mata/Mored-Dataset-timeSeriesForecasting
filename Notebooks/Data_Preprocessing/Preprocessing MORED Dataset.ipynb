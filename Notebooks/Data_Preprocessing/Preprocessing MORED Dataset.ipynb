{
 "cells": [
  {
   "cell_type": "markdown",
   "id": "ed5f3a84",
   "metadata": {},
   "source": [
    "# Preprocessing MORED Dataset "
   ]
  },
  {
   "cell_type": "code",
   "execution_count": 1,
   "id": "e24bf55d",
   "metadata": {},
   "outputs": [],
   "source": [
    "import os\n",
    "from pathlib import Path\n"
   ]
  },
  {
   "cell_type": "code",
   "execution_count": 2,
   "id": "0e390425",
   "metadata": {},
   "outputs": [],
   "source": [
    "os.chdir('../..')\n"
   ]
  },
  {
   "cell_type": "code",
   "execution_count": 17,
   "id": "c6ea1cfd",
   "metadata": {},
   "outputs": [],
   "source": [
    "#pwd to avoid errors in data loading paths and other required paths ..."
   ]
  },
  {
   "cell_type": "code",
   "execution_count": 4,
   "id": "c0cf7036",
   "metadata": {},
   "outputs": [],
   "source": [
    "#Create or ensure the existence of the Folder (repository) containing the output figures:\n",
    "\n",
    "os.makedirs(\"Figures/Preprocessing_Mored_Dataset\", exist_ok=True)\n"
   ]
  },
  {
   "cell_type": "code",
   "execution_count": 13,
   "id": "e8626f3e",
   "metadata": {},
   "outputs": [],
   "source": [
    "#Data source path\n",
    "source_Data = Path(\"Raw_Data/\")\n",
    "WP_Data_Path = source_Data/\"WP_données\""
   ]
  },
  {
   "cell_type": "code",
   "execution_count": 14,
   "id": "984c2553",
   "metadata": {},
   "outputs": [],
   "source": [
    "#Path validity check\n",
    "assert WP_Data_Path.is_dir(),\"The data can be found on the public website: https://moredataset.github.io/MORED/ \"\n"
   ]
  },
  {
   "cell_type": "code",
   "execution_count": 18,
   "id": "abf0842e",
   "metadata": {},
   "outputs": [
    {
     "name": "stdout",
     "output_type": "stream",
     "text": [
      "1.24.3\n"
     ]
    }
   ],
   "source": [
    "import numpy\n",
    "print(numpy.__version__)"
   ]
  },
  {
   "cell_type": "code",
   "execution_count": 20,
   "id": "0dada28c",
   "metadata": {},
   "outputs": [
    {
     "name": "stderr",
     "output_type": "stream",
     "text": [
      "C:\\Users\\ADMIN\\AppData\\Local\\Temp\\ipykernel_16016\\454157297.py:5: TqdmExperimentalWarning: Using `tqdm.autonotebook.tqdm` in notebook mode. Use `tqdm.tqdm` instead to force console mode (e.g. in jupyter console)\n",
      "  from tqdm.autonotebook import tqdm\n"
     ]
    }
   ],
   "source": [
    "import numpy as np\n",
    "import matplotlib.pyplot as plt\n",
    "import pandas as pd\n",
    "from pathlib import Path\n",
    "from tqdm.autonotebook import tqdm\n",
    "np.random.seed()\n",
    "tqdm.pandas()"
   ]
  },
  {
   "cell_type": "code",
   "execution_count": 27,
   "id": "8d6b6069",
   "metadata": {},
   "outputs": [
    {
     "data": {
      "text/html": [
       "<div>\n",
       "<style scoped>\n",
       "    .dataframe tbody tr th:only-of-type {\n",
       "        vertical-align: middle;\n",
       "    }\n",
       "\n",
       "    .dataframe tbody tr th {\n",
       "        vertical-align: top;\n",
       "    }\n",
       "\n",
       "    .dataframe thead th {\n",
       "        text-align: right;\n",
       "    }\n",
       "</style>\n",
       "<table border=\"1\" class=\"dataframe\">\n",
       "  <thead>\n",
       "    <tr style=\"text-align: right;\">\n",
       "      <th></th>\n",
       "      <th>timestamp</th>\n",
       "      <th>Vrms</th>\n",
       "      <th>real_power</th>\n",
       "    </tr>\n",
       "  </thead>\n",
       "  <tbody>\n",
       "    <tr>\n",
       "      <th>0</th>\n",
       "      <td>18/04/2020 16:18:50</td>\n",
       "      <td>227.94</td>\n",
       "      <td>113</td>\n",
       "    </tr>\n",
       "    <tr>\n",
       "      <th>1</th>\n",
       "      <td>18/04/2020 16:19:00</td>\n",
       "      <td>228.43</td>\n",
       "      <td>114</td>\n",
       "    </tr>\n",
       "    <tr>\n",
       "      <th>2</th>\n",
       "      <td>18/04/2020 16:19:10</td>\n",
       "      <td>228.55</td>\n",
       "      <td>113</td>\n",
       "    </tr>\n",
       "    <tr>\n",
       "      <th>3</th>\n",
       "      <td>18/04/2020 16:19:20</td>\n",
       "      <td>228.07</td>\n",
       "      <td>114</td>\n",
       "    </tr>\n",
       "    <tr>\n",
       "      <th>4</th>\n",
       "      <td>18/04/2020 16:19:30</td>\n",
       "      <td>228.22</td>\n",
       "      <td>114</td>\n",
       "    </tr>\n",
       "  </tbody>\n",
       "</table>\n",
       "</div>"
      ],
      "text/plain": [
       "             timestamp    Vrms  real_power\n",
       "0  18/04/2020 16:18:50  227.94         113\n",
       "1  18/04/2020 16:19:00  228.43         114\n",
       "2  18/04/2020 16:19:10  228.55         113\n",
       "3  18/04/2020 16:19:20  228.07         114\n",
       "4  18/04/2020 16:19:30  228.22         114"
      ]
     },
     "execution_count": 27,
     "metadata": {},
     "output_type": "execute_result"
    }
   ],
   "source": [
    "#first simple check :\n",
    "\n",
    "df = pd.read_csv(WP_Data_Path/'APT1.csv')\n",
    "\n",
    "df.head()"
   ]
  },
  {
   "cell_type": "code",
   "execution_count": 28,
   "id": "aa35aaef",
   "metadata": {},
   "outputs": [],
   "source": [
    "del df # then delete "
   ]
  },
  {
   "cell_type": "code",
   "execution_count": 29,
   "id": "a0e52d32",
   "metadata": {},
   "outputs": [
    {
     "data": {
      "application/vnd.jupyter.widget-view+json": {
       "model_id": "93627c50719b4731abd3d008a539d00f",
       "version_major": 2,
       "version_minor": 0
      },
      "text/plain": [
       "Search for the minimum and maximum timestamp among premises ...: 0it [00:00, ?it/s]"
      ]
     },
     "metadata": {},
     "output_type": "display_data"
    },
    {
     "name": "stdout",
     "output_type": "stream",
     "text": [
      "Minimum timestamp for all residential premises: 2020-04-18 13:49:20\n",
      "Maximum timestamp for all residential premises: 2021-08-15 10:48:00\n"
     ]
    }
   ],
   "source": [
    "\n",
    "min_timestamp = None\n",
    "max_timestamp = None\n",
    "\n",
    "for f in tqdm(WP_Data_Path.glob(\"*.csv\"), desc=\"Search for the minimum and maximum timestamp among premises ...\"):\n",
    "    with open(f, 'r') as file:\n",
    "        header = next(file)\n",
    "        first_line = next(file)\n",
    "        timestamp = pd.to_datetime(first_line.split(',')[0], dayfirst=True)\n",
    "        \n",
    "        if min_timestamp is None or timestamp < min_timestamp:\n",
    "            min_timestamp = timestamp\n",
    "        \n",
    "        if max_timestamp is None or timestamp > max_timestamp:\n",
    "            max_timestamp = timestamp\n",
    "\n",
    "print(f\"Minimum timestamp for all residential premises: {min_timestamp}\")\n",
    "print(f\"Maximum timestamp for all residential premises: {max_timestamp}\")\n"
   ]
  },
  {
   "cell_type": "markdown",
   "id": "8b7e7911",
   "metadata": {},
   "source": [
    "# Reading data sets "
   ]
  },
  {
   "cell_type": "markdown",
   "id": "56986d60",
   "metadata": {},
   "source": [
    "The various data sets will be read and pre-processed using different python libraries"
   ]
  },
  {
   "cell_type": "markdown",
   "id": "e159f9c6",
   "metadata": {},
   "source": [
    "### Brief description of the MORED dataset \n",
    "Since spring 2019, a data acquisition campaign has been underway to collect data reflecting the electricity consumption of various urban premises in different Moroccan cities. MORED is the first open African dataset on building electricity consumption. It contains labeled WP and IL consumption data, labeled IL signatures and WP consumption data from several Moroccan households and loads. The aim of this dataset is to continue the progress that the field of energy disaggregation has experienced over the past decade, by providing a dataset that contains more data and makes use of recent advances in the field.\n",
    "First the data will be used for forecasting purposes ... then, after completion of the project, the part relating to disaggregation will also be studied.\n",
    "\n",
    "###### MORED offers the following consumption data:\n",
    " * WP(whole power) and IL goround-truth electricity consumption\n",
    " * WP(whole power) electricity consumption  ( the main output of each single premise)\n",
    " * IL signatures ( individual load ) "
   ]
  },
  {
   "cell_type": "markdown",
   "id": "56c405f3",
   "metadata": {},
   "source": [
    "## WP electricity consumption "
   ]
  },
  {
   "cell_type": "code",
   "execution_count": 142,
   "id": "763d178d",
   "metadata": {},
   "outputs": [
    {
     "data": {
      "text/html": [
       "<div>\n",
       "<style scoped>\n",
       "    .dataframe tbody tr th:only-of-type {\n",
       "        vertical-align: middle;\n",
       "    }\n",
       "\n",
       "    .dataframe tbody tr th {\n",
       "        vertical-align: top;\n",
       "    }\n",
       "\n",
       "    .dataframe thead th {\n",
       "        text-align: right;\n",
       "    }\n",
       "</style>\n",
       "<table border=\"1\" class=\"dataframe\">\n",
       "  <thead>\n",
       "    <tr style=\"text-align: right;\">\n",
       "      <th></th>\n",
       "      <th>timestamp</th>\n",
       "      <th>Vrms</th>\n",
       "      <th>real_power</th>\n",
       "    </tr>\n",
       "  </thead>\n",
       "  <tbody>\n",
       "    <tr>\n",
       "      <th>0</th>\n",
       "      <td>2020-04-18 16:18:50</td>\n",
       "      <td>227.94</td>\n",
       "      <td>113</td>\n",
       "    </tr>\n",
       "    <tr>\n",
       "      <th>1</th>\n",
       "      <td>2020-04-18 16:19:00</td>\n",
       "      <td>228.43</td>\n",
       "      <td>114</td>\n",
       "    </tr>\n",
       "    <tr>\n",
       "      <th>2</th>\n",
       "      <td>2020-04-18 16:19:10</td>\n",
       "      <td>228.55</td>\n",
       "      <td>113</td>\n",
       "    </tr>\n",
       "    <tr>\n",
       "      <th>3</th>\n",
       "      <td>2020-04-18 16:19:20</td>\n",
       "      <td>228.07</td>\n",
       "      <td>114</td>\n",
       "    </tr>\n",
       "    <tr>\n",
       "      <th>4</th>\n",
       "      <td>2020-04-18 16:19:30</td>\n",
       "      <td>228.22</td>\n",
       "      <td>114</td>\n",
       "    </tr>\n",
       "  </tbody>\n",
       "</table>\n",
       "</div>"
      ],
      "text/plain": [
       "            timestamp    Vrms  real_power\n",
       "0 2020-04-18 16:18:50  227.94         113\n",
       "1 2020-04-18 16:19:00  228.43         114\n",
       "2 2020-04-18 16:19:10  228.55         113\n",
       "3 2020-04-18 16:19:20  228.07         114\n",
       "4 2020-04-18 16:19:30  228.22         114"
      ]
     },
     "execution_count": 142,
     "metadata": {},
     "output_type": "execute_result"
    }
   ],
   "source": [
    "# let's check the data from the first house in WP group , and inspect data and what we can do about it.\n",
    "\n",
    "APT1 = pd.read_csv(WP_Data_Path/\"APT1.csv\", parse_dates = ['timestamp'],dayfirst = True)\n",
    "\n",
    "APT1.head()"
   ]
  },
  {
   "cell_type": "code",
   "execution_count": 143,
   "id": "f6d37247",
   "metadata": {},
   "outputs": [
    {
     "name": "stdout",
     "output_type": "stream",
     "text": [
      "<class 'pandas.core.frame.DataFrame'>\n",
      "RangeIndex: 352485 entries, 0 to 352484\n",
      "Data columns (total 3 columns):\n",
      " #   Column      Non-Null Count   Dtype         \n",
      "---  ------      --------------   -----         \n",
      " 0   timestamp   352485 non-null  datetime64[ns]\n",
      " 1   Vrms        352485 non-null  float64       \n",
      " 2   real_power  352485 non-null  int64         \n",
      "dtypes: datetime64[ns](1), float64(1), int64(1)\n",
      "memory usage: 8.1 MB\n"
     ]
    }
   ],
   "source": [
    "APT1.info()"
   ]
  },
  {
   "cell_type": "markdown",
   "id": "be3bd519",
   "metadata": {},
   "source": [
    "\n",
    "First of all, the single APT1 series takes up a substantial 8.1 MB of space, which needs to be optimized for storage purposes.\n",
    "Second we can see that python interpreted 'real_power' column as int64 , maybe because pandas did infer this \n",
    "data type when reading the csv ,this shows that an assumption has been made in regard of the column that maybe\n",
    "stores mainly whole numbers ( i'll keep it like that )"
   ]
  },
  {
   "cell_type": "code",
   "execution_count": 144,
   "id": "7462c551",
   "metadata": {},
   "outputs": [],
   "source": [
    "# memory usage: 8.1 MB !\n",
    "\n",
    "def reduce_memory_footprint(df : pd.DataFrame) -> pd.DataFrame:\n",
    "    \"\"\"\n",
    "    This function can be used to reduce the memory footprint of the dataframe by using the apropriate Type casting...\n",
    "\n",
    "    \"\"\"\n",
    "    dtypes = df.dtypes\n",
    "    flottantsCol = dtypes[dtypes == \"float64\"].index.tolist()\n",
    "    entiers_Col = dtypes[dtypes == \"int64\"].index.tolist()\n",
    "    df[flottantsCol] = df[flottantsCol].astype(\"float32\")\n",
    "    df[entiers_Col] = df[entiers_Col].astype(\"int32\")\n",
    "    return df\n"
   ]
  },
  {
   "cell_type": "code",
   "execution_count": 145,
   "id": "ce815974",
   "metadata": {},
   "outputs": [],
   "source": [
    "APT1 = reduce_memory_footprint(APT1)"
   ]
  },
  {
   "cell_type": "code",
   "execution_count": 146,
   "id": "9ed680af",
   "metadata": {},
   "outputs": [
    {
     "name": "stdout",
     "output_type": "stream",
     "text": [
      "<class 'pandas.core.frame.DataFrame'>\n",
      "RangeIndex: 352485 entries, 0 to 352484\n",
      "Data columns (total 3 columns):\n",
      " #   Column      Non-Null Count   Dtype         \n",
      "---  ------      --------------   -----         \n",
      " 0   timestamp   352485 non-null  datetime64[ns]\n",
      " 1   Vrms        352485 non-null  float32       \n",
      " 2   real_power  352485 non-null  int32         \n",
      "dtypes: datetime64[ns](1), float32(1), int32(1)\n",
      "memory usage: 5.4 MB\n"
     ]
    }
   ],
   "source": [
    "APT1.info() # a reduction of 5.4 MB is what we can do at least "
   ]
  },
  {
   "cell_type": "markdown",
   "id": "698bd13c",
   "metadata": {},
   "source": [
    "We note that the type casting to float or integer value didn't change that match , maybe the timestamps contributes heavily   "
   ]
  },
  {
   "cell_type": "code",
   "execution_count": 147,
   "id": "f3fd81db",
   "metadata": {},
   "outputs": [],
   "source": [
    "a,b,c =APT1.iloc[0]"
   ]
  },
  {
   "cell_type": "code",
   "execution_count": 148,
   "id": "a4c4fc58",
   "metadata": {},
   "outputs": [
    {
     "name": "stdout",
     "output_type": "stream",
     "text": [
      "The size of each datatype in each column is:  \n",
      "\t Timestamp : 128  MB ,\n",
      "\t Vrms 28  MB ,\n",
      "\t Real Power 28  MB \n"
     ]
    }
   ],
   "source": [
    "from sys import getsizeof\n",
    "a,b,c =APT1.iloc[0]\n",
    "print(f'The size of each datatype in each column is:  \\n\\t Timestamp : {getsizeof(a)}  MB ,\\n\\t Vrms {getsizeof(b)}  MB ,\\n\\t Real Power {getsizeof(c)}  MB ')"
   ]
  },
  {
   "cell_type": "markdown",
   "id": "92c4fa5d",
   "metadata": {},
   "source": [
    "Now we can see clearly how much timestamp datatype can occupy !"
   ]
  },
  {
   "cell_type": "code",
   "execution_count": 62,
   "id": "510aa486",
   "metadata": {},
   "outputs": [
    {
     "data": {
      "text/plain": [
       "timestamp     False\n",
       "Vrms          False\n",
       "real_power    False\n",
       "dtype: bool"
      ]
     },
     "execution_count": 62,
     "metadata": {},
     "output_type": "execute_result"
    }
   ],
   "source": [
    "APT1.isna().any() # No NA values"
   ]
  },
  {
   "cell_type": "markdown",
   "id": "530cd3ea",
   "metadata": {},
   "source": [
    "<b> To better optimize our dataframe, which is a mathematical time series $\\mathbb{TS}$ such that:</b> \n",
    "\n",
    "$ \\hspace{0.5cm}$ A time series $\\mathbb{TS}$: is a sequence of data points, in the form of pairs  of timestamps and values, arranged in ascending order in time $ \\mathbb{TS} = \\langle (t_1, v_1) ,( t_2, v_2 ), . .\\rangle$ . For each pair\n",
    "$(t_i, v_i), 1 ≤ i$, the timestamp $t_i$ represents the time when the value vi ∈ R was recorded. A time series $ \\mathbb{TS} = \\langle (t_1, v_1), .... (t_n, v_n) \\rangle$ with a fixed number of n data points is a bounded time series.\n",
    "Another interesting feature here is that its regular , in other words the points are evenly spaced in time ."
   ]
  },
  {
   "cell_type": "markdown",
   "id": "0343d10b",
   "metadata": {},
   "source": [
    "<b>Segment</b>:\n",
    "$\\newline$\n",
    "$ \\hspace{1cm} $A segment :  .<a name=\"cite_ref-1\"></a>[<sup>[1]</sup>](#cite_note-1) is a 5-tuple $ S = (t_s, t_e, SI, G_{ts} :TSG \\to 2^{t_s,t_s+SI,...,t_e} , m) $\n",
    "that represent in compact way all the points in a TS, \n",
    "The 5-tuple consist of the start date (timestamp) $t_s$, the end date $t_e$, the sampling interval SI, a function $G_{ts}$ which  for the $\\mathbb{TS}$ $\\in$ $\\mathbb{TSG}$ gives the set of 'Timestamps' (or date points) for wich $\\upsilon$ = $\\perp$ $\\in$ TS, the values of all other 'Timestamps' are defined by the model m multiplied by a scaling constant $CT_S \\in \\mathbb{R}$.\n",
    "\n",
    "\n",
    "\n",
    "<a name=\"cite_note-1\"></a>1. [^](#cite_ref-1) Preprint of: S. K. Jensen, T. B. Pedersen, and C. Thomsen, “Scalable Model-Based Management of Correlated Dimensional Time Series in ModelarDB+,” IEEE 37th ICDE, 2021, pp. 1380-1391, doi: 10.1109/ICDE51399.2021.00123, Copyright IEEE"
   ]
  },
  {
   "cell_type": "markdown",
   "id": "044bb97f",
   "metadata": {},
   "source": [
    "Considering the two definitions , we can arrive at an intuitive solution to the problem of timestamps being a heavy weight on time series storage."
   ]
  },
  {
   "cell_type": "code",
   "execution_count": 101,
   "id": "383e4c2c",
   "metadata": {},
   "outputs": [],
   "source": [
    "def segment(data: pd.DataFrame, col: str) -> tuple:\n",
    "    '''\n",
    "    This function segments a time series data frame and extracts relevant information.\n",
    "    Args:\n",
    "        data (pd.DataFrame): The input DataFrame containing timestamp and value columns.\n",
    "        col (str): The column name for the time series values.\n",
    "\n",
    "    Returns:\n",
    "        tuple: A tuple containing (start_time, ID, time_series, time_series_length)\n",
    "    '''\n",
    "    start_time = data['timestamp'].min()\n",
    "    unique_premises = data['Premises'].iloc[0]\n",
    "    # Sort the DataFrame by timestamp\n",
    "    data.sort_values(by=['timestamp'], inplace=True)\n",
    "    # Extract the time series values as a numpy array for better performance\n",
    "    time_series = data[col].values\n",
    "    time_series_length = len(time_series)\n",
    "    return start_time, unique_premises, time_series, time_series_length\n",
    "\n",
    "def ts_segment(dataframe: pd.DataFrame, freq=\"10S\", ts_id=\"series_name\", col_name=\"series_value\") -> pd.DataFrame:\n",
    "    '''\n",
    "    This function segments a DataFrame by 'Premises', extracts time series, and creates a summary DataFrame.\n",
    "    Args:\n",
    "        dataframe (pd.DataFrame): The input DataFrame containing timestamp, Premises, and value columns.\n",
    "        freq (str): The sampling rate string.\n",
    "        ts_id (str): The name of the time series ID column in the output DataFrame.\n",
    "        col_name (str): The name of the time series value column in the output DataFrame.\n",
    "\n",
    "    Returns:\n",
    "        pd.DataFrame: A summary DataFrame with segmented time series data.\n",
    "    '''\n",
    "    premises_groups = dataframe.groupby('Premises')\n",
    "    summary_data = {\n",
    "        ts_id: [],\n",
    "        'start_time': [],\n",
    "        'sampling_rate': freq,\n",
    "        col_name: [],\n",
    "        'ts_length': [],\n",
    "    }\n",
    "\n",
    "    for _, group_df in tqdm(premises_groups, leave=False):\n",
    "        start, unique_premises, ts, ts_length = segment(group_df, col_name)\n",
    "        summary_data[ts_id].append(unique_premises)\n",
    "        summary_data['start_time'].append(start)\n",
    "        summary_data[col_name].append(ts)  # Convert to list if needed if needed : ts.tolist()\n",
    "        summary_data['ts_length'].append(ts_length)\n",
    "\n",
    "    return pd.DataFrame(summary_data)\n",
    "\n",
    "# Example usage:\n",
    "# summary_df = ts_segment(data_frame, freq=\"10S\", ts_id=\"series_name\", col_name=\"series_value\")\n"
   ]
  },
  {
   "cell_type": "code",
   "execution_count": 102,
   "id": "b68c952e",
   "metadata": {},
   "outputs": [],
   "source": [
    "#let's see the impact on a TS wich APT1 timeserie:\n",
    "TS = reduce_memory_footprint(APT1)"
   ]
  },
  {
   "cell_type": "code",
   "execution_count": 103,
   "id": "6b531bb3",
   "metadata": {},
   "outputs": [],
   "source": [
    "#add Premises col to identify the origin of the time serie, and other possible inputs in this case : \n",
    "\n",
    "TS['Premises'] = 'Premise_1'\n",
    "col = 'real_power' # 'real_power\n"
   ]
  },
  {
   "cell_type": "code",
   "execution_count": 104,
   "id": "ca4963de",
   "metadata": {},
   "outputs": [
    {
     "name": "stderr",
     "output_type": "stream",
     "text": [
      "                                                                                                                       \r"
     ]
    }
   ],
   "source": [
    "# Store the segmented form in another DataFrame:\n",
    "\n",
    "TS_segmented = ts_segment(TS, freq=\"5S\", ts_id=\"Mains\", col_name=col)"
   ]
  },
  {
   "cell_type": "code",
   "execution_count": 106,
   "id": "887d3bbd",
   "metadata": {},
   "outputs": [
    {
     "data": {
      "text/html": [
       "<div>\n",
       "<style scoped>\n",
       "    .dataframe tbody tr th:only-of-type {\n",
       "        vertical-align: middle;\n",
       "    }\n",
       "\n",
       "    .dataframe tbody tr th {\n",
       "        vertical-align: top;\n",
       "    }\n",
       "\n",
       "    .dataframe thead th {\n",
       "        text-align: right;\n",
       "    }\n",
       "</style>\n",
       "<table border=\"1\" class=\"dataframe\">\n",
       "  <thead>\n",
       "    <tr style=\"text-align: right;\">\n",
       "      <th></th>\n",
       "      <th>Mains</th>\n",
       "      <th>start_time</th>\n",
       "      <th>sampling_rate</th>\n",
       "      <th>real_power</th>\n",
       "      <th>ts_length</th>\n",
       "    </tr>\n",
       "  </thead>\n",
       "  <tbody>\n",
       "    <tr>\n",
       "      <th>0</th>\n",
       "      <td>Premise_1</td>\n",
       "      <td>2020-04-18 16:18:50</td>\n",
       "      <td>5S</td>\n",
       "      <td>[113, 114, 113, 114, 114, 113, 114, 115, 113, ...</td>\n",
       "      <td>352485</td>\n",
       "    </tr>\n",
       "  </tbody>\n",
       "</table>\n",
       "</div>"
      ],
      "text/plain": [
       "       Mains          start_time sampling_rate  \\\n",
       "0  Premise_1 2020-04-18 16:18:50            5S   \n",
       "\n",
       "                                          real_power  ts_length  \n",
       "0  [113, 114, 113, 114, 114, 113, 114, 115, 113, ...     352485  "
      ]
     },
     "execution_count": 106,
     "metadata": {},
     "output_type": "execute_result"
    }
   ],
   "source": [
    "TS_segmented"
   ]
  },
  {
   "cell_type": "code",
   "execution_count": 109,
   "id": "c190b22e",
   "metadata": {},
   "outputs": [
    {
     "name": "stdout",
     "output_type": "stream",
     "text": [
      "<class 'pandas.core.frame.DataFrame'>\n",
      "RangeIndex: 1 entries, 0 to 0\n",
      "Data columns (total 5 columns):\n",
      " #   Column         Non-Null Count  Dtype         \n",
      "---  ------         --------------  -----         \n",
      " 0   Mains          1 non-null      object        \n",
      " 1   start_time     1 non-null      datetime64[ns]\n",
      " 2   sampling_rate  1 non-null      object        \n",
      " 3   real_power     1 non-null      object        \n",
      " 4   ts_length      1 non-null      int64         \n",
      "dtypes: datetime64[ns](1), int64(1), object(3)\n",
      "memory usage: 168.0+ bytes\n"
     ]
    }
   ],
   "source": [
    "TS_segmented.info()"
   ]
  },
  {
   "cell_type": "code",
   "execution_count": 120,
   "id": "504c050a",
   "metadata": {},
   "outputs": [
    {
     "name": "stdout",
     "output_type": "stream",
     "text": [
      "<class 'pandas.core.frame.DataFrame'>\n",
      "RangeIndex: 1 entries, 0 to 0\n",
      "Data columns (total 5 columns):\n",
      " #   Column         Non-Null Count  Dtype         \n",
      "---  ------         --------------  -----         \n",
      " 0   Mains          1 non-null      object        \n",
      " 1   start_time     1 non-null      datetime64[ns]\n",
      " 2   sampling_rate  1 non-null      object        \n",
      " 3   real_power     1 non-null      object        \n",
      " 4   ts_length      1 non-null      int64         \n",
      "dtypes: datetime64[ns](1), int64(1), object(3)\n",
      "memory usage: 168.0+ bytes\n"
     ]
    }
   ],
   "source": [
    "TS_segmented.info(memory_usage=True)"
   ]
  },
  {
   "cell_type": "code",
   "execution_count": 149,
   "id": "6d864db6",
   "metadata": {},
   "outputs": [
    {
     "name": "stdout",
     "output_type": "stream",
     "text": [
      "Optimization was successfully achieved at a rate of  : 99.998654% !!! \n",
      "AWESOME!\n"
     ]
    }
   ],
   "source": [
    "percentage = ((TS_segmented.memory_usage(deep = True).sum()/1024) / (TS.memory_usage(deep = True).sum()/1024) ) *100\n",
    "print(f'Optimization was successfully achieved at a rate of  : {100 - round(percentage,6)}% !!! \\nAWESOME!')\n"
   ]
  },
  {
   "cell_type": "code",
   "execution_count": null,
   "id": "29f18699",
   "metadata": {},
   "outputs": [],
   "source": []
  }
 ],
 "metadata": {
  "kernelspec": {
   "display_name": "Python 3 (ipykernel)",
   "language": "python",
   "name": "python3"
  },
  "language_info": {
   "codemirror_mode": {
    "name": "ipython",
    "version": 3
   },
   "file_extension": ".py",
   "mimetype": "text/x-python",
   "name": "python",
   "nbconvert_exporter": "python",
   "pygments_lexer": "ipython3",
   "version": "3.10.11"
  }
 },
 "nbformat": 4,
 "nbformat_minor": 5
}
